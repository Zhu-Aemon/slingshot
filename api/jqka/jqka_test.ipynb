{
 "cells": [
  {
   "cell_type": "code",
   "outputs": [
    {
     "name": "stdout",
     "output_type": "stream",
     "text": [
      "Request successful!\n",
      "{'status_code': 0, 'status_msg': 'success', 'data': {'total': 20, 'list': [{'turnover': None, 'stock_market': '33', 'stock_code': '000818', 'stock_name': '航锦科技', 'margin_of_increase': 0, 'net_inflow_of_main_force': None, 'turnover_rate': None}, {'turnover': None, 'stock_market': '33', 'stock_code': '002055', 'stock_name': '得润电子', 'margin_of_increase': 0, 'net_inflow_of_main_force': None, 'turnover_rate': None}, {'turnover': None, 'stock_market': '33', 'stock_code': '002130', 'stock_name': '沃尔核材', 'margin_of_increase': 0, 'net_inflow_of_main_force': None, 'turnover_rate': None}, {'turnover': None, 'stock_market': '33', 'stock_code': '002475', 'stock_name': '立讯精密', 'margin_of_increase': 0, 'net_inflow_of_main_force': None, 'turnover_rate': None}, {'turnover': None, 'stock_market': '33', 'stock_code': '002792', 'stock_name': '通宇通讯', 'margin_of_increase': 0, 'net_inflow_of_main_force': None, 'turnover_rate': None}, {'turnover': None, 'stock_market': '33', 'stock_code': '002897', 'stock_name': '意华股份', 'margin_of_increase': 0, 'net_inflow_of_main_force': None, 'turnover_rate': None}, {'turnover': None, 'stock_market': '33', 'stock_code': '300252', 'stock_name': '金信诺', 'margin_of_increase': 0, 'net_inflow_of_main_force': None, 'turnover_rate': None}, {'turnover': None, 'stock_market': '33', 'stock_code': '300292', 'stock_name': '吴通控股', 'margin_of_increase': 0, 'net_inflow_of_main_force': None, 'turnover_rate': None}, {'turnover': None, 'stock_market': '33', 'stock_code': '300548', 'stock_name': '博创科技', 'margin_of_increase': 0, 'net_inflow_of_main_force': None, 'turnover_rate': None}, {'turnover': None, 'stock_market': '33', 'stock_code': '300738', 'stock_name': '奥飞数据', 'margin_of_increase': 0, 'net_inflow_of_main_force': None, 'turnover_rate': None}, {'turnover': None, 'stock_market': '33', 'stock_code': '300843', 'stock_name': '胜蓝股份', 'margin_of_increase': 0, 'net_inflow_of_main_force': None, 'turnover_rate': None}, {'turnover': None, 'stock_market': '33', 'stock_code': '300913', 'stock_name': '兆龙互连', 'margin_of_increase': 0, 'net_inflow_of_main_force': None, 'turnover_rate': None}, {'turnover': None, 'stock_market': '33', 'stock_code': '300991', 'stock_name': '创益通', 'margin_of_increase': 0, 'net_inflow_of_main_force': None, 'turnover_rate': None}, {'turnover': None, 'stock_market': '33', 'stock_code': '301328', 'stock_name': '维峰电子', 'margin_of_increase': 0, 'net_inflow_of_main_force': None, 'turnover_rate': None}, {'turnover': None, 'stock_market': '17', 'stock_code': '600973', 'stock_name': '宝胜股份', 'margin_of_increase': 0, 'net_inflow_of_main_force': None, 'turnover_rate': None}, {'turnover': None, 'stock_market': '17', 'stock_code': '601869', 'stock_name': '长飞光纤', 'margin_of_increase': 0, 'net_inflow_of_main_force': None, 'turnover_rate': None}, {'turnover': None, 'stock_market': '17', 'stock_code': '603042', 'stock_name': '华脉科技', 'margin_of_increase': 0, 'net_inflow_of_main_force': None, 'turnover_rate': None}, {'turnover': None, 'stock_market': '17', 'stock_code': '688629', 'stock_name': '华丰科技', 'margin_of_increase': 0, 'net_inflow_of_main_force': None, 'turnover_rate': None}, {'turnover': None, 'stock_market': '17', 'stock_code': '688668', 'stock_name': '鼎通科技', 'margin_of_increase': 0, 'net_inflow_of_main_force': None, 'turnover_rate': None}, {'turnover': None, 'stock_market': '17', 'stock_code': '688800', 'stock_name': '瑞可达', 'margin_of_increase': 0, 'net_inflow_of_main_force': None, 'turnover_rate': None}]}}\n"
     ]
    }
   ],
   "source": [
    "import requests\n",
    "\n",
    "url = \"https://dq.10jqka.com.cn/interval_calculation/stock_info/v1/get_stock_list_by_block\"\n",
    "payload = {\n",
    "    \"block_code\": \"886073\",\n",
    "    \"sort_info\": {\n",
    "        \"sort_field\": \"0\",\n",
    "        \"sort_type\": \"desc\"\n",
    "    },\n",
    "    \"history_info\": {\n",
    "        \"history_type\": \"1\",\n",
    "        \"end_date\": \"20240325000000\",\n",
    "        \"start_date\": \"20240325000000\"\n",
    "    },\n",
    "    \"page_info\": {\n",
    "        \"page_size\": 20,\n",
    "        \"page\": 1\n",
    "    },\n",
    "    \"block_market\": \"48\"\n",
    "}\n",
    "\n",
    "# Specify headers, it's often required to include Content-Type\n",
    "# and sometimes additional headers like User-Agent or others\n",
    "# depending on the API's requirements.\n",
    "headers = {\n",
    "    \"Host\": \"dq.10jqka.com.cn\",\n",
    "    \"Accept\": \"application/json, text/plain, */*\",\n",
    "    \"Sec-Fetch-Site\": \"cross-site\",\n",
    "    \"Accept-Language\": \"zh-CN,zh-Hans;q=0.9\",\n",
    "    \"Accept-Encoding\": \"gzip, deflate, br\",\n",
    "    \"Sec-Fetch-Mode\": \"cors\",\n",
    "    \"Content-Type\": \"application/json\",\n",
    "    \"Origin\": \"https://localhost:8088\",\n",
    "    \"User-Agent\": \"Mozilla/5.0 (iPhone; CPU iPhone OS 17_2_1 like Mac OS X) AppleWebKit/605.1.15 (KHTML, like Gecko) Mobile/15E148 Safari/604.1 Falcon/0.3.29 userid/712680386\",\n",
    "    \"Referer\": \"https://localhost:8088/\",\n",
    "    \"Connection\": \"keep-alive\"\n",
    "}\n",
    "\n",
    "# Make the POST request with the URL, payload, and headers\n",
    "response = requests.post(url, json=payload, headers=headers)\n",
    "\n",
    "# Check if the request was successful\n",
    "if response.status_code == 200:\n",
    "    # Process the response if necessary\n",
    "    print(\"Request successful!\")\n",
    "    print(response.json())  # Assuming the response is JSON\n",
    "else:\n",
    "    print(f\"Request failed with status code: {response.status_code}\")"
   ],
   "metadata": {
    "collapsed": false,
    "ExecuteTime": {
     "end_time": "2024-03-24T16:09:34.753576900Z",
     "start_time": "2024-03-24T16:09:34.637340800Z"
    }
   },
   "id": "40692d360e8fd367",
   "execution_count": 31
  },
  {
   "cell_type": "code",
   "outputs": [
    {
     "data": {
      "text/plain": "{'status_code': 0,\n 'status_msg': 'success',\n 'data': {'total': 30,\n  'list': [{'turnover': 94381588,\n    'stock_market': '17',\n    'stock_code': '688268',\n    'stock_name': '华特气体',\n    'margin_of_increase': 0.06874,\n    'net_inflow_of_main_force': -3219504.2,\n    'turnover_rate': 0.01589},\n   {'turnover': 147488360,\n    'stock_market': '33',\n    'stock_code': '300691',\n    'stock_name': '联合光电',\n    'margin_of_increase': 0.06703,\n    'net_inflow_of_main_force': 7155983.7,\n    'turnover_rate': 0.04442},\n   {'turnover': 178462670,\n    'stock_market': '17',\n    'stock_code': '688630',\n    'stock_name': '芯碁微装',\n    'margin_of_increase': 0.06646,\n    'net_inflow_of_main_force': 7560301.6,\n    'turnover_rate': 0.0322},\n   {'turnover': 556745100,\n    'stock_market': '33',\n    'stock_code': '300456',\n    'stock_name': '赛微电子',\n    'margin_of_increase': 0.05949,\n    'net_inflow_of_main_force': -14387743,\n    'turnover_rate': 0.04698},\n   {'turnover': 649825490,\n    'stock_market': '33',\n    'stock_code': '002008',\n    'stock_name': '大族激光',\n    'margin_of_increase': 0.0536,\n    'net_inflow_of_main_force': 55979384,\n    'turnover_rate': 0.03402},\n   {'turnover': 276548930,\n    'stock_market': '33',\n    'stock_code': '002889',\n    'stock_name': '东方嘉盛',\n    'margin_of_increase': 0.05248,\n    'net_inflow_of_main_force': -4109251.8,\n    'turnover_rate': 0.10262},\n   {'turnover': 235092930,\n    'stock_market': '17',\n    'stock_code': '600850',\n    'stock_name': '电科数字',\n    'margin_of_increase': 0.05165,\n    'net_inflow_of_main_force': 2781091.8,\n    'turnover_rate': 0.01925},\n   {'turnover': 243814580,\n    'stock_market': '17',\n    'stock_code': '603738',\n    'stock_name': '泰晶科技',\n    'margin_of_increase': 0.05038,\n    'net_inflow_of_main_force': -4905621.5,\n    'turnover_rate': 0.04589},\n   {'turnover': 201394470,\n    'stock_market': '33',\n    'stock_code': '003031',\n    'stock_name': '中瓷电子',\n    'margin_of_increase': 0.04456,\n    'net_inflow_of_main_force': -2433347,\n    'turnover_rate': 0.03463},\n   {'turnover': 93364767,\n    'stock_market': '17',\n    'stock_code': '603297',\n    'stock_name': '永新光学',\n    'margin_of_increase': 0.0442,\n    'net_inflow_of_main_force': 6781440,\n    'turnover_rate': 0.01105}]}}"
     },
     "execution_count": 26,
     "metadata": {},
     "output_type": "execute_result"
    }
   ],
   "source": [
    "test = eval(response.text)\n",
    "test"
   ],
   "metadata": {
    "collapsed": false,
    "ExecuteTime": {
     "end_time": "2024-03-24T15:23:51.221463600Z",
     "start_time": "2024-03-24T15:23:51.187991100Z"
    }
   },
   "id": "441dcd69d85280cf",
   "execution_count": 26
  },
  {
   "cell_type": "code",
   "outputs": [
    {
     "data": {
      "text/plain": "'{\"status_code\":0,\"status_msg\":\"success\",\"data\":{\"total\":507,\"list\":[{\"turnover\":97721827000,\"block_market\":\"48\",\"block_code\":\"886013\",\"block_name\":\"信创\",\"margin_of_increase\":-0.00489,\"net_inflow_of_main_force\":-928398700,\"stock_list\":[{\"stock_market\":\"17\",\"stock_code\":\"688229\",\"stock_name\":\"博睿数据\",\"margin_of_increase\":0.13899},{\"stock_market\":\"33\",\"stock_code\":\"002735\",\"stock_name\":\"王子新材\",\"margin_of_increase\":0.10007}]},{\"turnover\":107682632000,\"block_market\":\"48\",\"block_code\":\"885757\",\"block_name\":\"区块链\",\"margin_of_increase\":-0.00498,\"net_inflow_of_main_force\":-398776300,\"stock_list\":[{\"stock_market\":\"33\",\"stock_code\":\"300364\",\"stock_name\":\"中文在线\",\"margin_of_increase\":0.13042},{\"stock_market\":\"33\",\"stock_code\":\"002929\",\"stock_name\":\"润建股份\",\"margin_of_increase\":0.1}]},{\"turnover\":5860092900,\"block_market\":\"48\",\"block_code\":\"885968\",\"block_name\":\"托育服务\",\"margin_of_increase\":-0.00502,\"net_inflow_of_main_force\":-222460210,\"stock_list\":[{\"stock_market\":\"17\",\"stock_code\":\"600565\",\"stock_name\":\"迪马股份\",\"margin_of_increase\":0.07801},{\"stock_market\":\"33\",\"stock_code\":\"300010\",\"stock_name\":\"*ST豆神\",\"margin_of_increase\":0.07114}]},{\"turnover\":32144243000,\"block_market\":\"48\",\"block_code\":\"885730\",\"block_name\":\"量子科技\",\"margin_of_increase\":-0.00504,\"net_inflow_of_main_force\":-673599300,\"stock_list\":[{\"stock_market\":\"33\",\"stock_code\":\"002335\",\"stock_name\":\"科华数据\",\"margin_of_increase\":0.06573},{\"stock_market\":\"33\",\"stock_code\":\"000555\",\"stock_name\":\"神州信息\",\"margin_of_increase\":0.05654}]},{\"turnover\":18239828000,\"block_market\":\"48\",\"block_code\":\"885959\",\"block_name\":\"PCB概念\",\"margin_of_increase\":-0.00504,\"net_inflow_of_main_force\":8422600,\"stock_list\":[{\"stock_market\":\"33\",\"stock_code\":\"301123\",\"stock_name\":\"奕东电子\",\"margin_of_increase\":0.10628},{\"stock_market\":\"17\",\"stock_code\":\"603002\",\"stock_name\":\"宏昌电子\",\"margin_of_increase\":0.10062}]},{\"turnover\":13486597000,\"block_market\":\"48\",\"block_code\":\"885493\",\"block_name\":\"上海国企改革\",\"margin_of_increase\":-0.00508,\"net_inflow_of_main_force\":293502710,\"stock_list\":[{\"stock_market\":\"17\",\"stock_code\":\"601595\",\"stock_name\":\"上海电影\",\"margin_of_increase\":0.1},{\"stock_market\":\"17\",\"stock_code\":\"600602\",\"stock_name\":\"云赛智联\",\"margin_of_increase\":0.09992}]},{\"turnover\":11436782800,\"block_market\":\"48\",\"block_code\":\"886039\",\"block_name\":\"ERP概念\",\"margin_of_increase\":-0.00514,\"net_inflow_of_main_force\":-63854840,\"stock_list\":[{\"stock_market\":\"17\",\"stock_code\":\"603613\",\"stock_name\":\"国联股份\",\"margin_of_increase\":0.10023},{\"stock_market\":\"33\",\"stock_code\":\"300170\",\"stock_name\":\"汉得信息\",\"margin_of_increase\":0.09602}]},{\"turnover\":151385710000,\"block_market\":\"48\",\"block_code\":\"885556\",\"block_name\":\"5G\",\"margin_of_increase\":-0.00527,\"net_inflow_of_main_force\":-1577682800,\"stock_list\":[{\"stock_market\":\"17\",\"stock_code\":\"688668\",\"stock_name\":\"鼎通科技\",\"margin_of_increase\":0.20006},{\"stock_market\":\"17\",\"stock_code\":\"688629\",\"stock_name\":\"华丰科技\",\"margin_of_increase\":0.12038}]},{\"turnover\":53226205000,\"block_market\":\"48\",\"block_code\":\"885787\",\"block_name\":\"独角兽概念\",\"margin_of_increase\":-0.00542,\"net_inflow_of_main_force\":-2198558500,\"stock_list\":[{\"stock_market\":\"17\",\"stock_code\":\"603533\",\"stock_name\":\"掌阅科技\",\"margin_of_increase\":0.09986},{\"stock_market\":\"17\",\"stock_code\":\"600825\",\"stock_name\":\"新华传媒\",\"margin_of_increase\":0.09942}]},{\"turnover\":30106288000,\"block_market\":\"48\",\"block_code\":\"885701\",\"block_name\":\"杭州亚运会\",\"margin_of_increase\":-0.00545,\"net_inflow_of_main_force\":-118702800,\"stock_list\":[{\"stock_market\":\"17\",\"stock_code\":\"600973\",\"stock_name\":\"宝胜股份\",\"margin_of_increase\":0.10023},{\"stock_market\":\"33\",\"stock_code\":\"002929\",\"stock_name\":\"润建股份\",\"margin_of_increase\":0.1}]},{\"turnover\":7075322000,\"block_market\":\"48\",\"block_code\":\"886054\",\"block_name\":\"光刻机\",\"margin_of_increase\":-0.00549,\"net_inflow_of_main_force\":-198258720,\"stock_list\":[{\"stock_market\":\"17\",\"stock_code\":\"688409\",\"stock_name\":\"富创精密\",\"margin_of_increase\":0.05766},{\"stock_market\":\"33\",\"stock_code\":\"003043\",\"stock_name\":\"华亚智能\",\"margin_of_increase\":0.05223}]},{\"turnover\":8438071700,\"block_market\":\"48\",\"block_code\":\"881131\",\"block_name\":\"白色家电\",\"margin_of_increase\":-0.00574,\"net_inflow_of_main_force\":240031640,\"stock_list\":[{\"stock_market\":\"33\",\"stock_code\":\"000521\",\"stock_name\":\"长虹美菱\",\"margin_of_increase\":0.03672},{\"stock_market\":\"33\",\"stock_code\":\"000333\",\"stock_name\":\"美的集团\",\"margin_of_increase\":0.03418}]},{\"turnover\":3362278700,\"block_market\":\"48\",\"block_code\":\"885931\",\"block_name\":\"PVDF概念\",\"margin_of_increase\":-0.00591,\"net_inflow_of_main_force\":-5400397,\"stock_list\":[{\"stock_market\":\"33\",\"stock_code\":\"300056\",\"stock_name\":\"中创环保\",\"margin_of_increase\":0.0615},{\"stock_market\":\"17\",\"stock_code\":\"603379\",\"stock_name\":\"三美股份\",\"margin_of_increase\":0.026}]},{\"turnover\":75575720000,\"block_market\":\"48\",\"block_code\":\"885790\",\"block_name\":\"边缘计算\",\"margin_of_increase\":-0.00603,\"net_inflow_of_main_force\":-1710307600,\"stock_list\":[{\"stock_market\":\"33\",\"stock_code\":\"300738\",\"stock_name\":\"奥飞数据\",\"margin_of_increase\":0.1998},{\"stock_market\":\"33\",\"stock_code\":\"002929\",\"stock_name\":\"润建股份\",\"margin_of_increase\":0.1}]},{\"turnover\":32215726000,\"block_market\":\"48\",\"block_code\":\"886009\",\"block_name\":\"先进封装\",\"margin_of_increase\":-0.00604,\"net_inflow_of_main_force\":-81619100,\"stock_list\":[{\"stock_market\":\"33\",\"stock_code\":\"301369\",\"stock_name\":\"联动科技\",\"margin_of_increase\":0.2},{\"stock_market\":\"17\",\"stock_code\":\"603002\",\"stock_name\":\"宏昌电子\",\"margin_of_increase\":0.10062}]},{\"turnover\":1489318000,\"block_market\":\"48\",\"block_code\":\"881159\",\"block_name\":\"贸易\",\"margin_of_increase\":-0.00604,\"net_inflow_of_main_force\":927965,\"stock_list\":[{\"stock_market\":\"17\",\"stock_code\":\"600250\",\"stock_name\":\"南京商旅\",\"margin_of_increase\":0.10022},{\"stock_market\":\"22\",\"stock_code\":\"600608\",\"stock_name\":\"ST沪科\",\"margin_of_increase\":0.0406}]},{\"turnover\":2172901400,\"block_market\":\"48\",\"block_code\":\"881137\",\"block_name\":\"造纸\",\"margin_of_increase\":-0.0062,\"net_inflow_of_main_force\":-27418353,\"stock_list\":[{\"stock_market\":\"17\",\"stock_code\":\"605500\",\"stock_name\":\"森林包装\",\"margin_of_increase\":0.04305},{\"stock_market\":\"17\",\"stock_code\":\"603733\",\"stock_name\":\"仙鹤股份\",\"margin_of_increase\":0.01802}]},{\"turnover\":37817665000,\"block_market\":\"48\",\"block_code\":\"885980\",\"block_name\":\"华为鲲鹏\",\"margin_of_increase\":-0.00629,\"net_inflow_of_main_force\":-1058501700,\"stock_list\":[{\"stock_market\":\"33\",\"stock_code\":\"301085\",\"stock_name\":\"亚康股份\",\"margin_of_increase\":0.16823},{\"stock_market\":\"17\",\"stock_code\":\"603636\",\"stock_name\":\"南威软件\",\"margin_of_increase\":0.08876}]},{\"turnover\":19348129000,\"block_market\":\"48\",\"block_code\":\"885842\",\"block_name\":\"数字乡村\",\"margin_of_increase\":-0.00646,\"net_inflow_of_main_force\":-254842040,\"stock_list\":[{\"stock_market\":\"17\",\"stock_code\":\"603636\",\"stock_name\":\"南威软件\",\"margin_of_increase\":0.08876},{\"stock_market\":\"33\",\"stock_code\":\"300603\",\"stock_name\":\"立昂技术\",\"margin_of_increase\":0.06192}]},{\"turnover\":24285872000,\"block_market\":\"48\",\"block_code\":\"885966\",\"block_name\":\"跨境支付（CIPS）\",\"margin_of_increase\":-0.00668,\"net_inflow_of_main_force\":-839975100,\"stock_list\":[{\"stock_market\":\"33\",\"stock_code\":\"301171\",\"stock_name\":\"易点天下\",\"margin_of_increase\":0.0693},{\"stock_market\":\"33\",\"stock_code\":\"000555\",\"stock_name\":\"神州信息\",\"margin_of_increase\":0.05654}]}]}}'"
     },
     "execution_count": 28,
     "metadata": {},
     "output_type": "execute_result"
    }
   ],
   "source": [
    "url = 'https://dq.10jqka.com.cn/interval_calculation/block_info/v1/get_block_list'\n",
    "date = '20240322'\n",
    "payload = {\n",
    "    \"sort_info\": {\n",
    "        \"sort_field\": \"0\",\n",
    "        \"sort_type\": \"desc\"\n",
    "    },\n",
    "    \"history_info\": {\n",
    "        \"history_type\": \"0\",\n",
    "        \"end_date\": f\"{date}150000\",\n",
    "        \"start_date\": f\"{date}093000\"\n",
    "    },\n",
    "    \"type\": 0,\n",
    "    \"page_info\": {\n",
    "        \"page_size\": 20,\n",
    "        \"page\": 4\n",
    "    }\n",
    "}\n",
    "response = requests.post(url, json=payload, headers=headers)\n",
    "response.text"
   ],
   "metadata": {
    "collapsed": false,
    "ExecuteTime": {
     "end_time": "2024-03-24T15:44:53.474162200Z",
     "start_time": "2024-03-24T15:44:53.355109400Z"
    }
   },
   "id": "8615e2b49d28dcbc",
   "execution_count": 28
  },
  {
   "cell_type": "code",
   "outputs": [
    {
     "data": {
      "text/plain": "[{'turnover': 97721827000,\n  'block_market': '48',\n  'block_code': '886013',\n  'block_name': '信创',\n  'margin_of_increase': -0.00489,\n  'net_inflow_of_main_force': -928398700,\n  'stock_list': [{'stock_market': '17',\n    'stock_code': '688229',\n    'stock_name': '博睿数据',\n    'margin_of_increase': 0.13899},\n   {'stock_market': '33',\n    'stock_code': '002735',\n    'stock_name': '王子新材',\n    'margin_of_increase': 0.10007}]},\n {'turnover': 107682632000,\n  'block_market': '48',\n  'block_code': '885757',\n  'block_name': '区块链',\n  'margin_of_increase': -0.00498,\n  'net_inflow_of_main_force': -398776300,\n  'stock_list': [{'stock_market': '33',\n    'stock_code': '300364',\n    'stock_name': '中文在线',\n    'margin_of_increase': 0.13042},\n   {'stock_market': '33',\n    'stock_code': '002929',\n    'stock_name': '润建股份',\n    'margin_of_increase': 0.1}]},\n {'turnover': 5860092900,\n  'block_market': '48',\n  'block_code': '885968',\n  'block_name': '托育服务',\n  'margin_of_increase': -0.00502,\n  'net_inflow_of_main_force': -222460210,\n  'stock_list': [{'stock_market': '17',\n    'stock_code': '600565',\n    'stock_name': '迪马股份',\n    'margin_of_increase': 0.07801},\n   {'stock_market': '33',\n    'stock_code': '300010',\n    'stock_name': '*ST豆神',\n    'margin_of_increase': 0.07114}]},\n {'turnover': 32144243000,\n  'block_market': '48',\n  'block_code': '885730',\n  'block_name': '量子科技',\n  'margin_of_increase': -0.00504,\n  'net_inflow_of_main_force': -673599300,\n  'stock_list': [{'stock_market': '33',\n    'stock_code': '002335',\n    'stock_name': '科华数据',\n    'margin_of_increase': 0.06573},\n   {'stock_market': '33',\n    'stock_code': '000555',\n    'stock_name': '神州信息',\n    'margin_of_increase': 0.05654}]},\n {'turnover': 18239828000,\n  'block_market': '48',\n  'block_code': '885959',\n  'block_name': 'PCB概念',\n  'margin_of_increase': -0.00504,\n  'net_inflow_of_main_force': 8422600,\n  'stock_list': [{'stock_market': '33',\n    'stock_code': '301123',\n    'stock_name': '奕东电子',\n    'margin_of_increase': 0.10628},\n   {'stock_market': '17',\n    'stock_code': '603002',\n    'stock_name': '宏昌电子',\n    'margin_of_increase': 0.10062}]},\n {'turnover': 13486597000,\n  'block_market': '48',\n  'block_code': '885493',\n  'block_name': '上海国企改革',\n  'margin_of_increase': -0.00508,\n  'net_inflow_of_main_force': 293502710,\n  'stock_list': [{'stock_market': '17',\n    'stock_code': '601595',\n    'stock_name': '上海电影',\n    'margin_of_increase': 0.1},\n   {'stock_market': '17',\n    'stock_code': '600602',\n    'stock_name': '云赛智联',\n    'margin_of_increase': 0.09992}]},\n {'turnover': 11436782800,\n  'block_market': '48',\n  'block_code': '886039',\n  'block_name': 'ERP概念',\n  'margin_of_increase': -0.00514,\n  'net_inflow_of_main_force': -63854840,\n  'stock_list': [{'stock_market': '17',\n    'stock_code': '603613',\n    'stock_name': '国联股份',\n    'margin_of_increase': 0.10023},\n   {'stock_market': '33',\n    'stock_code': '300170',\n    'stock_name': '汉得信息',\n    'margin_of_increase': 0.09602}]},\n {'turnover': 151385710000,\n  'block_market': '48',\n  'block_code': '885556',\n  'block_name': '5G',\n  'margin_of_increase': -0.00527,\n  'net_inflow_of_main_force': -1577682800,\n  'stock_list': [{'stock_market': '17',\n    'stock_code': '688668',\n    'stock_name': '鼎通科技',\n    'margin_of_increase': 0.20006},\n   {'stock_market': '17',\n    'stock_code': '688629',\n    'stock_name': '华丰科技',\n    'margin_of_increase': 0.12038}]},\n {'turnover': 53226205000,\n  'block_market': '48',\n  'block_code': '885787',\n  'block_name': '独角兽概念',\n  'margin_of_increase': -0.00542,\n  'net_inflow_of_main_force': -2198558500,\n  'stock_list': [{'stock_market': '17',\n    'stock_code': '603533',\n    'stock_name': '掌阅科技',\n    'margin_of_increase': 0.09986},\n   {'stock_market': '17',\n    'stock_code': '600825',\n    'stock_name': '新华传媒',\n    'margin_of_increase': 0.09942}]},\n {'turnover': 30106288000,\n  'block_market': '48',\n  'block_code': '885701',\n  'block_name': '杭州亚运会',\n  'margin_of_increase': -0.00545,\n  'net_inflow_of_main_force': -118702800,\n  'stock_list': [{'stock_market': '17',\n    'stock_code': '600973',\n    'stock_name': '宝胜股份',\n    'margin_of_increase': 0.10023},\n   {'stock_market': '33',\n    'stock_code': '002929',\n    'stock_name': '润建股份',\n    'margin_of_increase': 0.1}]},\n {'turnover': 7075322000,\n  'block_market': '48',\n  'block_code': '886054',\n  'block_name': '光刻机',\n  'margin_of_increase': -0.00549,\n  'net_inflow_of_main_force': -198258720,\n  'stock_list': [{'stock_market': '17',\n    'stock_code': '688409',\n    'stock_name': '富创精密',\n    'margin_of_increase': 0.05766},\n   {'stock_market': '33',\n    'stock_code': '003043',\n    'stock_name': '华亚智能',\n    'margin_of_increase': 0.05223}]},\n {'turnover': 8438071700,\n  'block_market': '48',\n  'block_code': '881131',\n  'block_name': '白色家电',\n  'margin_of_increase': -0.00574,\n  'net_inflow_of_main_force': 240031640,\n  'stock_list': [{'stock_market': '33',\n    'stock_code': '000521',\n    'stock_name': '长虹美菱',\n    'margin_of_increase': 0.03672},\n   {'stock_market': '33',\n    'stock_code': '000333',\n    'stock_name': '美的集团',\n    'margin_of_increase': 0.03418}]},\n {'turnover': 3362278700,\n  'block_market': '48',\n  'block_code': '885931',\n  'block_name': 'PVDF概念',\n  'margin_of_increase': -0.00591,\n  'net_inflow_of_main_force': -5400397,\n  'stock_list': [{'stock_market': '33',\n    'stock_code': '300056',\n    'stock_name': '中创环保',\n    'margin_of_increase': 0.0615},\n   {'stock_market': '17',\n    'stock_code': '603379',\n    'stock_name': '三美股份',\n    'margin_of_increase': 0.026}]},\n {'turnover': 75575720000,\n  'block_market': '48',\n  'block_code': '885790',\n  'block_name': '边缘计算',\n  'margin_of_increase': -0.00603,\n  'net_inflow_of_main_force': -1710307600,\n  'stock_list': [{'stock_market': '33',\n    'stock_code': '300738',\n    'stock_name': '奥飞数据',\n    'margin_of_increase': 0.1998},\n   {'stock_market': '33',\n    'stock_code': '002929',\n    'stock_name': '润建股份',\n    'margin_of_increase': 0.1}]},\n {'turnover': 32215726000,\n  'block_market': '48',\n  'block_code': '886009',\n  'block_name': '先进封装',\n  'margin_of_increase': -0.00604,\n  'net_inflow_of_main_force': -81619100,\n  'stock_list': [{'stock_market': '33',\n    'stock_code': '301369',\n    'stock_name': '联动科技',\n    'margin_of_increase': 0.2},\n   {'stock_market': '17',\n    'stock_code': '603002',\n    'stock_name': '宏昌电子',\n    'margin_of_increase': 0.10062}]},\n {'turnover': 1489318000,\n  'block_market': '48',\n  'block_code': '881159',\n  'block_name': '贸易',\n  'margin_of_increase': -0.00604,\n  'net_inflow_of_main_force': 927965,\n  'stock_list': [{'stock_market': '17',\n    'stock_code': '600250',\n    'stock_name': '南京商旅',\n    'margin_of_increase': 0.10022},\n   {'stock_market': '22',\n    'stock_code': '600608',\n    'stock_name': 'ST沪科',\n    'margin_of_increase': 0.0406}]},\n {'turnover': 2172901400,\n  'block_market': '48',\n  'block_code': '881137',\n  'block_name': '造纸',\n  'margin_of_increase': -0.0062,\n  'net_inflow_of_main_force': -27418353,\n  'stock_list': [{'stock_market': '17',\n    'stock_code': '605500',\n    'stock_name': '森林包装',\n    'margin_of_increase': 0.04305},\n   {'stock_market': '17',\n    'stock_code': '603733',\n    'stock_name': '仙鹤股份',\n    'margin_of_increase': 0.01802}]},\n {'turnover': 37817665000,\n  'block_market': '48',\n  'block_code': '885980',\n  'block_name': '华为鲲鹏',\n  'margin_of_increase': -0.00629,\n  'net_inflow_of_main_force': -1058501700,\n  'stock_list': [{'stock_market': '33',\n    'stock_code': '301085',\n    'stock_name': '亚康股份',\n    'margin_of_increase': 0.16823},\n   {'stock_market': '17',\n    'stock_code': '603636',\n    'stock_name': '南威软件',\n    'margin_of_increase': 0.08876}]},\n {'turnover': 19348129000,\n  'block_market': '48',\n  'block_code': '885842',\n  'block_name': '数字乡村',\n  'margin_of_increase': -0.00646,\n  'net_inflow_of_main_force': -254842040,\n  'stock_list': [{'stock_market': '17',\n    'stock_code': '603636',\n    'stock_name': '南威软件',\n    'margin_of_increase': 0.08876},\n   {'stock_market': '33',\n    'stock_code': '300603',\n    'stock_name': '立昂技术',\n    'margin_of_increase': 0.06192}]},\n {'turnover': 24285872000,\n  'block_market': '48',\n  'block_code': '885966',\n  'block_name': '跨境支付（CIPS）',\n  'margin_of_increase': -0.00668,\n  'net_inflow_of_main_force': -839975100,\n  'stock_list': [{'stock_market': '33',\n    'stock_code': '301171',\n    'stock_name': '易点天下',\n    'margin_of_increase': 0.0693},\n   {'stock_market': '33',\n    'stock_code': '000555',\n    'stock_name': '神州信息',\n    'margin_of_increase': 0.05654}]}]"
     },
     "execution_count": 30,
     "metadata": {},
     "output_type": "execute_result"
    }
   ],
   "source": [
    "response.json()['data']['list']"
   ],
   "metadata": {
    "collapsed": false,
    "ExecuteTime": {
     "end_time": "2024-03-24T15:57:24.198633200Z",
     "start_time": "2024-03-24T15:57:24.176053200Z"
    }
   },
   "id": "ee6746ce68eedafe",
   "execution_count": 30
  },
  {
   "cell_type": "code",
   "outputs": [
    {
     "data": {
      "text/plain": "200"
     },
     "execution_count": 4,
     "metadata": {},
     "output_type": "execute_result"
    }
   ],
   "source": [
    "import requests\n",
    "\n",
    "headers = {\n",
    "    'Accept': 'text/html,application/xhtml+xml,application/xml;q=0.9,image/avif,image/webp,image/apng,*/*;q=0.8,application/signed-exchange;v=b3;q=0.7',\n",
    "    'Accept-Encoding': 'gzip, deflate, br',\n",
    "    'Accept-Language': 'en-US,en;q=0.9',\n",
    "    'Cache-Control': 'max-age=0',\n",
    "    'Connection': 'keep-alive',\n",
    "    'DNT': '1',\n",
    "    'Host': 'eq.10jqka.com.cn',\n",
    "    'Sec-Fetch-Dest': 'document',\n",
    "    'Sec-Fetch-Mode': 'navigate',\n",
    "    'Sec-Fetch-Site': 'none',\n",
    "    'Sec-Fetch-User': '?1',\n",
    "    'Upgrade-Insecure-Requests': '1',\n",
    "    'User-Agent': 'Mozilla/5.0 (Macintosh; Intel Mac OS X 10_15_7) AppleWebKit/537.36 (KHTML, like Gecko) Chrome/122.0.0.0 Safari/537.36',\n",
    "    'sec-ch-ua': '\"Not(A:Brand\";v=\"24\", \"Chromium\";v=\"122\"',\n",
    "    'sec-ch-ua-mobile': '?0',\n",
    "    'sec-ch-ua-platform': '\"macOS\"'\n",
    "}\n",
    "\n",
    "\n",
    "response = requests.get('https://eq.10jqka.com.cn/open/api/hot_list/history/v1/rank?type=stock&date=20240322', headers=headers)\n",
    "response.status_code"
   ],
   "metadata": {
    "collapsed": false,
    "ExecuteTime": {
     "end_time": "2024-03-25T02:56:09.689212Z",
     "start_time": "2024-03-25T02:56:09.290043Z"
    }
   },
   "id": "d84846cb4a3d4964",
   "execution_count": 4
  },
  {
   "cell_type": "code",
   "outputs": [],
   "source": [],
   "metadata": {
    "collapsed": false
   },
   "id": "6d412561f30e0ffe"
  }
 ],
 "metadata": {
  "kernelspec": {
   "display_name": "Python 3",
   "language": "python",
   "name": "python3"
  },
  "language_info": {
   "codemirror_mode": {
    "name": "ipython",
    "version": 2
   },
   "file_extension": ".py",
   "mimetype": "text/x-python",
   "name": "python",
   "nbconvert_exporter": "python",
   "pygments_lexer": "ipython2",
   "version": "2.7.6"
  }
 },
 "nbformat": 4,
 "nbformat_minor": 5
}
